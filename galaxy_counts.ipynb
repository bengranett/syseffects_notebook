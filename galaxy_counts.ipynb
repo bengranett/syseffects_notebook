{
 "cells": [
  {
   "cell_type": "markdown",
   "metadata": {},
   "source": [
    "# Halpha luminosity function calculations\n",
    "\n",
    "This notebook has a collection of calculations to derive number counts from a luminosity function."
   ]
  },
  {
   "cell_type": "code",
   "execution_count": 1,
   "metadata": {
    "collapsed": false
   },
   "outputs": [],
   "source": [
    "%matplotlib inline\n",
    "import numpy as np\n",
    "import scipy\n",
    "import matplotlib\n",
    "from matplotlib import pyplot\n",
    "matplotlib.rcParams.update({'axes.labelsize': 'large'}) "
   ]
  },
  {
   "cell_type": "code",
   "execution_count": 2,
   "metadata": {
    "collapsed": true
   },
   "outputs": [],
   "source": [
    "from astropy.cosmology import FlatLambdaCDM\n",
    "cosmo = FlatLambdaCDM(H0=70, Om0=0.3)\n",
    "\n",
    "mpc_to_cm = 3.086e+24"
   ]
  },
  {
   "cell_type": "code",
   "execution_count": 3,
   "metadata": {
    "collapsed": true
   },
   "outputs": [],
   "source": [
    "def flux_to_lum(f, z):\n",
    "    \"\"\" Convert flux to luminosity. \"\"\"\n",
    "    return f * 4 * np.pi * (cosmo.luminosity_distance(z).value * mpc_to_cm)**2\n",
    "\n",
    "def redshift_shell_volume(zmin, zmax, area=1):\n",
    "    \"\"\" \"\"\"\n",
    "    fsky = area * 1. / (4*np.pi*(180/np.pi)**2) \n",
    "    rmin = cosmo.comoving_distance(zmin).value\n",
    "    rmax = cosmo.comoving_distance(zmax).value\n",
    "    v = fsky * 4./3 * np.pi * (rmax**3 - rmin**3)\n",
    "    return v\n",
    "    \n",
    "def pozzetti_model1(L, z=1., phi_star=10**-2.80, L_star=10**41.50, alpha=-1.35, d=2., e=1., z_break=1.3):\n",
    "    \"\"\" Pozzetti et al 2016 model 1 luminosity function \"\"\"\n",
    "    L_star_z = L_star * (1+z)**d\n",
    "    \n",
    "    if z < z_break:\n",
    "        phi_star_z = phi_star * (1 + z)**e\n",
    "    else:\n",
    "        phi_star_z = phi_star * (1 + z_break)**(2*e) * (1 + z)**-e\n",
    "\n",
    "    x = L/L_star_z\n",
    "    \n",
    "    return  1./L_star_z * phi_star_z * x**alpha * np.exp(-x)\n",
    "\n",
    "def count(fluxlim=2e-16, zlow=0.9, zhigh=1.7, dz=0.05, area=1):\n",
    "    \"\"\" Count galaxies above the flux limit in a redshift bin. \"\"\"\n",
    "    \n",
    "    steps = max(2, int((zhigh - zlow)/dz))\n",
    "    zz = np.linspace(zlow, zhigh, steps)\n",
    "    count = 0\n",
    "    for i in range(len(zz)-1):\n",
    "\n",
    "        zmid = (zz[i] + zz[i+1])/2.\n",
    "\n",
    "        L0 = flux_to_lum(fluxlim, zmid)\n",
    "\n",
    "#         print \"z = {:3.2f} log10L_0 = {:6.3f}\".format(zmid, np.log10(L0))\n",
    "\n",
    "        lumfunc = lambda x: pozzetti_model1(x, z=zmid)\n",
    "        n, info = scipy.integrate.quad(lumfunc, L0, 10**46)\n",
    "\n",
    "        volume = redshift_shell_volume(zz[i], zz[i+1], area=area)\n",
    "\n",
    "        n *= volume\n",
    "\n",
    "        count += n\n",
    "    return count"
   ]
  },
  {
   "cell_type": "markdown",
   "metadata": {},
   "source": [
    "# Flux-limited galaxy counts\n",
    "The redshift range is set to match WISP counts presented in Pozzetti et al Fig 4"
   ]
  },
  {
   "cell_type": "code",
   "execution_count": 4,
   "metadata": {
    "collapsed": false
   },
   "outputs": [],
   "source": [
    "fluxlim = np.logspace(-17, -15., 20)\n",
    "n = []\n",
    "for f in fluxlim:\n",
    "    n.append(count(f, zlow=0.7, zhigh=1.5, dz=.05, area=1))\n",
    "n = np.array(n)"
   ]
  },
  {
   "cell_type": "code",
   "execution_count": 5,
   "metadata": {
    "collapsed": false
   },
   "outputs": [
    {
     "data": {
      "image/png": "[encoded data removed]",
      "text/plain": [
       "<matplotlib.figure.Figure at 0x106e213d0>"
      ]
     },
     "metadata": {},
     "output_type": "display_data"
    }
   ],
   "source": [
    "pyplot.loglog(fluxlim, n)\n",
    "pyplot.ylim(50, 2e5)\n",
    "pyplot.xlim(1e-17, 3e-15)\n",
    "pyplot.xlabel(\"$f_{lim}\\ H\\\\alpha\\ (erg/s/cm^2)$\")\n",
    "r=pyplot.ylabel(\"$N(>f_{lim})\\ (gal/deg^2)$\")"
   ]
  },
  {
   "cell_type": "markdown",
   "metadata": {},
   "source": [
    "# Sensitivity of counts to flux limit\n",
    "Compute the derivative of the counts with respect to flux limit."
   ]
  },
  {
   "cell_type": "code",
   "execution_count": 6,
   "metadata": {
    "collapsed": false
   },
   "outputs": [
    {
     "data": {
      "image/png": "[encoded data removed]",
      "text/plain": [
       "<matplotlib.figure.Figure at 0x10723fa90>"
      ]
     },
     "metadata": {},
     "output_type": "display_data"
    }
   ],
   "source": [
    "fluxlim = np.linspace(1e-17, 5e-16, 50)\n",
    "n = []\n",
    "for f in fluxlim:\n",
    "    n.append(count(f, zlow=0.9, zhigh=1.7, dz=.05, area=1))\n",
    "n = np.array(n)\n",
    "\n",
    "logn = np.log10(n)\n",
    "logf = np.log10(fluxlim)\n",
    "\n",
    "dn = logn[1:] - logn[:-1]\n",
    "df = logf[1:] - logf[:-1]\n",
    "\n",
    "dndf = dn / df\n",
    "\n",
    "x = (fluxlim[1:] + fluxlim[:-1])/2.\n",
    "pyplot.plot(x, dndf)\n",
    "pyplot.axhline(-1, c='grey', dashes=(4,1))\n",
    "pyplot.axvline(2e-16, c='orange', dashes=(4,1))\n",
    "pyplot.xlabel(\"$f_{lim}\\ H\\\\alpha\\ (erg/s/cm^2)$\")\n",
    "r=pyplot.ylabel(\"$ d \\log n / d \\log f_{lim}$\")"
   ]
  },
  {
   "cell_type": "code",
   "execution_count": null,
   "metadata": {
    "collapsed": true
   },
   "outputs": [],
   "source": []
  }
 ],
 "metadata": {
  "kernelspec": {
   "display_name": "Python 2",
   "language": "python",
   "name": "python2"
  },
  "language_info": {
   "codemirror_mode": {
    "name": "ipython",
    "version": 2
   },
   "file_extension": ".py",
   "mimetype": "text/x-python",
   "name": "python",
   "nbconvert_exporter": "python",
   "pygments_lexer": "ipython2",
   "version": "2.7.13"
  }
 },
 "nbformat": 4,
 "nbformat_minor": 0
}
